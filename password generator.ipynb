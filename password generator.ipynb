{
 "cells": [
  {
   "cell_type": "code",
   "execution_count": 1,
   "id": "70ac60fa",
   "metadata": {},
   "outputs": [],
   "source": [
    "import random\n",
    "import string\n",
    "import tkinter as tk\n",
    "from tkinter import messagebox\n",
    "\n",
    "def generate_password():\n",
    "    try:\n",
    "        length = int(entry_length.get())\n",
    "        if length < 4:\n",
    "            messagebox.showerror(\"Error\", \"Password length must be at least 4.\")\n",
    "            return\n",
    "        characters = string.ascii_letters + string.digits + string.punctuation\n",
    "        password = ''.join(random.choice(characters) for _ in range(length))\n",
    "        entry_password.delete(0, tk.END)\n",
    "        entry_password.insert(0, password)\n",
    "    except ValueError:\n",
    "        messagebox.showerror(\"Error\", \"Please enter a valid number.\")\n",
    "\n",
    "# GUI Setup\n",
    "root = tk.Tk()\n",
    "root.title(\"Password Generator\")\n",
    "root.geometry(\"400x200\")\n",
    "\n",
    "tk.Label(root, text=\"Enter Password Length:\").pack(pady=5)\n",
    "entry_length = tk.Entry(root)\n",
    "entry_length.pack(pady=5)\n",
    "\n",
    "btn_generate = tk.Button(root, text=\"Generate Password\", command=generate_password)\n",
    "btn_generate.pack(pady=5)\n",
    "\n",
    "entry_password = tk.Entry(root, width=40)\n",
    "entry_password.pack(pady=10)\n",
    "\n",
    "root.mainloop()\n"
   ]
  }
 ],
 "metadata": {
  "kernelspec": {
   "display_name": ".venv",
   "language": "python",
   "name": "python3"
  },
  "language_info": {
   "codemirror_mode": {
    "name": "ipython",
    "version": 3
   },
   "file_extension": ".py",
   "mimetype": "text/x-python",
   "name": "python",
   "nbconvert_exporter": "python",
   "pygments_lexer": "ipython3",
   "version": "3.12.10"
  }
 },
 "nbformat": 4,
 "nbformat_minor": 5
}
